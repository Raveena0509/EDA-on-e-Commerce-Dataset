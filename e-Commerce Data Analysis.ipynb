{
 "cells": [
  {
   "attachments": {
    "title.png": {
     "image/png": "[encoded data removed]"
    }
   },
   "cell_type": "markdown",
   "id": "bc828580",
   "metadata": {},
   "source": [
    "![title.png](attachment:title.png)"
   ]
  },
  {
   "cell_type": "markdown",
   "id": "b7943067",
   "metadata": {},
   "source": [
    "        This is Kaggle's one of the largest dataset on e-Commerce with half a million transactions record. It contains information regarding the sale of products in e-Commerce site along with their Qty, Price, SKU, Status, Payment mode,Discount, date etc.,"
   ]
  },
  {
   "cell_type": "markdown",
   "id": "c73e7b29",
   "metadata": {},
   "source": [
    "In this Notebook I have performed the following:\n",
    "\n",
    " Data Preparation and Cleaning\n",
    "\n",
    "- Replacing Missing Values\n",
    "\n",
    "- Dropping null columns\n",
    "\n",
    "- Renaming Column Names\n",
    "\n",
    "- DataType casting\n",
    "\n",
    " Exploratory Analysis and Visualization\n",
    "\n",
    "- Popularity of Category\n",
    "\n",
    "- Top 10 categories visualisation\n",
    "\n",
    "- Impact of  Payment Mode on Order Status\n",
    "\n",
    "- Profitable Year Distribution\n",
    "\n",
    "- Seasonality over the years across Months\n",
    "\n",
    " Inferences and Conclusions\n"
   ]
  },
  {
   "cell_type": "markdown",
   "id": "a974b855",
   "metadata": {},
   "source": [
    "### Import libraries"
   ]
  },
  {
   "cell_type": "code",
   "execution_count": 21,
   "id": "e2780a57",
   "metadata": {},
   "outputs": [],
   "source": [
    "import numpy as np\n",
    "import pandas as pd\n",
    "import matplotlib.pyplot as plt\n",
    "import seaborn as sns\n",
    "\n",
    "import warnings\n",
    "warnings.filterwarnings(\"ignore\")"
   ]
  },
  {
   "cell_type": "markdown",
   "id": "1beef1c1",
   "metadata": {},
   "source": [
    "### Load dataset"
   ]
  },
  {
   "cell_type": "code",
   "execution_count": 173,
   "id": "1c6f6c2f",
   "metadata": {},
   "outputs": [],
   "source": [
    "data = pd.read_csv(r\"C:\\Users\\Use\\Desktop\\Internships\\eCommerce\\Ecommerce Dataset.csv\", parse_dates = ([\"created_at\", \"Working Date\"]))"
   ]
  },
  {
   "cell_type": "markdown",
   "id": "942e9d29",
   "metadata": {},
   "source": [
    "### Data Preparation and Cleaning"
   ]
  },
  {
   "cell_type": "code",
   "execution_count": 83,
   "id": "3accb186",
   "metadata": {},
   "outputs": [
    {
     "data": {
      "text/plain": [
       "(1048575, 26)"
      ]
     },
     "execution_count": 83,
     "metadata": {},
     "output_type": "execute_result"
    }
   ],
   "source": [
    "data.shape"
   ]
  },
  {
   "cell_type": "code",
   "execution_count": 84,
   "id": "32352fe6",
   "metadata": {},
   "outputs": [
    {
     "name": "stdout",
     "output_type": "stream",
     "text": [
      "<class 'pandas.core.frame.DataFrame'>\n",
      "RangeIndex: 1048575 entries, 0 to 1048574\n",
      "Data columns (total 26 columns):\n",
      " #   Column                 Non-Null Count   Dtype         \n",
      "---  ------                 --------------   -----         \n",
      " 0   item_id                584524 non-null  float64       \n",
      " 1   status                 584509 non-null  object        \n",
      " 2   created_at             584524 non-null  datetime64[ns]\n",
      " 3   sku                    584504 non-null  object        \n",
      " 4   price                  584524 non-null  float64       \n",
      " 5   qty_ordered            584524 non-null  float64       \n",
      " 6   grand_total            584524 non-null  float64       \n",
      " 7   increment_id           584524 non-null  object        \n",
      " 8   category_name_1        584360 non-null  object        \n",
      " 9   sales_commission_code  447349 non-null  object        \n",
      " 10  discount_amount        584524 non-null  float64       \n",
      " 11  payment_method         584524 non-null  object        \n",
      " 12  Working Date           584524 non-null  datetime64[ns]\n",
      " 13  BI Status              584524 non-null  object        \n",
      " 14   MV                    584524 non-null  object        \n",
      " 15  Year                   584524 non-null  float64       \n",
      " 16  Month                  584524 non-null  float64       \n",
      " 17  Customer Since         584513 non-null  object        \n",
      " 18  M-Y                    584524 non-null  object        \n",
      " 19  FY                     584524 non-null  object        \n",
      " 20  Customer ID            584513 non-null  float64       \n",
      " 21  Unnamed: 21            0 non-null       float64       \n",
      " 22  Unnamed: 22            0 non-null       float64       \n",
      " 23  Unnamed: 23            0 non-null       float64       \n",
      " 24  Unnamed: 24            0 non-null       float64       \n",
      " 25  Unnamed: 25            0 non-null       float64       \n",
      "dtypes: datetime64[ns](2), float64(13), object(11)\n",
      "memory usage: 208.0+ MB\n"
     ]
    }
   ],
   "source": [
    "data.info()"
   ]
  },
  {
   "cell_type": "markdown",
   "id": "78aa71d5",
   "metadata": {},
   "source": [
    "##### Data contains 1048574 rows but maximum columns contain 584524 records."
   ]
  },
  {
   "cell_type": "code",
   "execution_count": 174,
   "id": "b14504cd",
   "metadata": {},
   "outputs": [
    {
     "data": {
      "text/plain": [
       "item_id                   464051\n",
       "status                    464066\n",
       "created_at                464051\n",
       "sku                       464071\n",
       "price                     464051\n",
       "qty_ordered               464051\n",
       "grand_total               464051\n",
       "increment_id              464051\n",
       "category_name_1           464215\n",
       "sales_commission_code     601226\n",
       "discount_amount           464051\n",
       "payment_method            464051\n",
       "Working Date              464051\n",
       "BI Status                 464051\n",
       " MV                       464051\n",
       "Year                      464051\n",
       "Month                     464051\n",
       "Customer Since            464062\n",
       "M-Y                       464051\n",
       "FY                        464051\n",
       "Customer ID               464062\n",
       "Unnamed: 21              1048575\n",
       "Unnamed: 22              1048575\n",
       "Unnamed: 23              1048575\n",
       "Unnamed: 24              1048575\n",
       "Unnamed: 25              1048575\n",
       "dtype: int64"
      ]
     },
     "execution_count": 174,
     "metadata": {},
     "output_type": "execute_result"
    }
   ],
   "source": [
    "data.isnull().sum()"
   ]
  },
  {
   "cell_type": "markdown",
   "id": "7b423f6a",
   "metadata": {},
   "source": [
    "#####  It is observed that half of the rows are completely empty and there are 5 totally null columns and so it can be dropped."
   ]
  },
  {
   "cell_type": "code",
   "execution_count": 175,
   "id": "042228a1",
   "metadata": {},
   "outputs": [],
   "source": [
    "data.drop(['Unnamed: 21','Unnamed: 22','Unnamed: 23','Unnamed: 24','Unnamed: 25'], axis = 1, inplace = True)"
   ]
  },
  {
   "cell_type": "code",
   "execution_count": 176,
   "id": "86483252",
   "metadata": {},
   "outputs": [
    {
     "data": {
      "text/html": [
       "<div>\n",
       "<style scoped>\n",
       "    .dataframe tbody tr th:only-of-type {\n",
       "        vertical-align: middle;\n",
       "    }\n",
       "\n",
       "    .dataframe tbody tr th {\n",
       "        vertical-align: top;\n",
       "    }\n",
       "\n",
       "    .dataframe thead th {\n",
       "        text-align: right;\n",
       "    }\n",
       "</style>\n",
       "<table border=\"1\" class=\"dataframe\">\n",
       "  <thead>\n",
       "    <tr style=\"text-align: right;\">\n",
       "      <th></th>\n",
       "      <th>item_id</th>\n",
       "      <th>status</th>\n",
       "      <th>created_at</th>\n",
       "      <th>sku</th>\n",
       "      <th>price</th>\n",
       "      <th>qty_ordered</th>\n",
       "      <th>grand_total</th>\n",
       "      <th>increment_id</th>\n",
       "      <th>category_name_1</th>\n",
       "      <th>sales_commission_code</th>\n",
       "      <th>...</th>\n",
       "      <th>payment_method</th>\n",
       "      <th>Working Date</th>\n",
       "      <th>BI Status</th>\n",
       "      <th>MV</th>\n",
       "      <th>Year</th>\n",
       "      <th>Month</th>\n",
       "      <th>Customer Since</th>\n",
       "      <th>M-Y</th>\n",
       "      <th>FY</th>\n",
       "      <th>Customer ID</th>\n",
       "    </tr>\n",
       "  </thead>\n",
       "  <tbody>\n",
       "    <tr>\n",
       "      <th>1048570</th>\n",
       "      <td>NaN</td>\n",
       "      <td>NaN</td>\n",
       "      <td>NaT</td>\n",
       "      <td>NaN</td>\n",
       "      <td>NaN</td>\n",
       "      <td>NaN</td>\n",
       "      <td>NaN</td>\n",
       "      <td>NaN</td>\n",
       "      <td>NaN</td>\n",
       "      <td>NaN</td>\n",
       "      <td>...</td>\n",
       "      <td>NaN</td>\n",
       "      <td>NaT</td>\n",
       "      <td>NaN</td>\n",
       "      <td>NaN</td>\n",
       "      <td>NaN</td>\n",
       "      <td>NaN</td>\n",
       "      <td>NaN</td>\n",
       "      <td>NaN</td>\n",
       "      <td>NaN</td>\n",
       "      <td>NaN</td>\n",
       "    </tr>\n",
       "    <tr>\n",
       "      <th>1048571</th>\n",
       "      <td>NaN</td>\n",
       "      <td>NaN</td>\n",
       "      <td>NaT</td>\n",
       "      <td>NaN</td>\n",
       "      <td>NaN</td>\n",
       "      <td>NaN</td>\n",
       "      <td>NaN</td>\n",
       "      <td>NaN</td>\n",
       "      <td>NaN</td>\n",
       "      <td>NaN</td>\n",
       "      <td>...</td>\n",
       "      <td>NaN</td>\n",
       "      <td>NaT</td>\n",
       "      <td>NaN</td>\n",
       "      <td>NaN</td>\n",
       "      <td>NaN</td>\n",
       "      <td>NaN</td>\n",
       "      <td>NaN</td>\n",
       "      <td>NaN</td>\n",
       "      <td>NaN</td>\n",
       "      <td>NaN</td>\n",
       "    </tr>\n",
       "    <tr>\n",
       "      <th>1048572</th>\n",
       "      <td>NaN</td>\n",
       "      <td>NaN</td>\n",
       "      <td>NaT</td>\n",
       "      <td>NaN</td>\n",
       "      <td>NaN</td>\n",
       "      <td>NaN</td>\n",
       "      <td>NaN</td>\n",
       "      <td>NaN</td>\n",
       "      <td>NaN</td>\n",
       "      <td>NaN</td>\n",
       "      <td>...</td>\n",
       "      <td>NaN</td>\n",
       "      <td>NaT</td>\n",
       "      <td>NaN</td>\n",
       "      <td>NaN</td>\n",
       "      <td>NaN</td>\n",
       "      <td>NaN</td>\n",
       "      <td>NaN</td>\n",
       "      <td>NaN</td>\n",
       "      <td>NaN</td>\n",
       "      <td>NaN</td>\n",
       "    </tr>\n",
       "    <tr>\n",
       "      <th>1048573</th>\n",
       "      <td>NaN</td>\n",
       "      <td>NaN</td>\n",
       "      <td>NaT</td>\n",
       "      <td>NaN</td>\n",
       "      <td>NaN</td>\n",
       "      <td>NaN</td>\n",
       "      <td>NaN</td>\n",
       "      <td>NaN</td>\n",
       "      <td>NaN</td>\n",
       "      <td>NaN</td>\n",
       "      <td>...</td>\n",
       "      <td>NaN</td>\n",
       "      <td>NaT</td>\n",
       "      <td>NaN</td>\n",
       "      <td>NaN</td>\n",
       "      <td>NaN</td>\n",
       "      <td>NaN</td>\n",
       "      <td>NaN</td>\n",
       "      <td>NaN</td>\n",
       "      <td>NaN</td>\n",
       "      <td>NaN</td>\n",
       "    </tr>\n",
       "    <tr>\n",
       "      <th>1048574</th>\n",
       "      <td>NaN</td>\n",
       "      <td>NaN</td>\n",
       "      <td>NaT</td>\n",
       "      <td>NaN</td>\n",
       "      <td>NaN</td>\n",
       "      <td>NaN</td>\n",
       "      <td>NaN</td>\n",
       "      <td>NaN</td>\n",
       "      <td>NaN</td>\n",
       "      <td>NaN</td>\n",
       "      <td>...</td>\n",
       "      <td>NaN</td>\n",
       "      <td>NaT</td>\n",
       "      <td>NaN</td>\n",
       "      <td>NaN</td>\n",
       "      <td>NaN</td>\n",
       "      <td>NaN</td>\n",
       "      <td>NaN</td>\n",
       "      <td>NaN</td>\n",
       "      <td>NaN</td>\n",
       "      <td>NaN</td>\n",
       "    </tr>\n",
       "  </tbody>\n",
       "</table>\n",
       "<p>5 rows × 21 columns</p>\n",
       "</div>"
      ],
      "text/plain": [
       "         item_id status created_at  sku  price  qty_ordered  grand_total  \\\n",
       "1048570      NaN    NaN        NaT  NaN    NaN          NaN          NaN   \n",
       "1048571      NaN    NaN        NaT  NaN    NaN          NaN          NaN   \n",
       "1048572      NaN    NaN        NaT  NaN    NaN          NaN          NaN   \n",
       "1048573      NaN    NaN        NaT  NaN    NaN          NaN          NaN   \n",
       "1048574      NaN    NaN        NaT  NaN    NaN          NaN          NaN   \n",
       "\n",
       "        increment_id category_name_1 sales_commission_code  ...  \\\n",
       "1048570          NaN             NaN                   NaN  ...   \n",
       "1048571          NaN             NaN                   NaN  ...   \n",
       "1048572          NaN             NaN                   NaN  ...   \n",
       "1048573          NaN             NaN                   NaN  ...   \n",
       "1048574          NaN             NaN                   NaN  ...   \n",
       "\n",
       "         payment_method Working Date BI Status  MV  Year  Month  \\\n",
       "1048570             NaN          NaT       NaN  NaN  NaN    NaN   \n",
       "1048571             NaN          NaT       NaN  NaN  NaN    NaN   \n",
       "1048572             NaN          NaT       NaN  NaN  NaN    NaN   \n",
       "1048573             NaN          NaT       NaN  NaN  NaN    NaN   \n",
       "1048574             NaN          NaT       NaN  NaN  NaN    NaN   \n",
       "\n",
       "         Customer Since  M-Y   FY Customer ID  \n",
       "1048570             NaN  NaN  NaN         NaN  \n",
       "1048571             NaN  NaN  NaN         NaN  \n",
       "1048572             NaN  NaN  NaN         NaN  \n",
       "1048573             NaN  NaN  NaN         NaN  \n",
       "1048574             NaN  NaN  NaN         NaN  \n",
       "\n",
       "[5 rows x 21 columns]"
      ]
     },
     "execution_count": 176,
     "metadata": {},
     "output_type": "execute_result"
    }
   ],
   "source": [
    "data.tail()"
   ]
  },
  {
   "cell_type": "markdown",
   "id": "a1d57781",
   "metadata": {},
   "source": [
    "##### There are some rows with NAN entries. we can't drop all na rows as actual data set also contain few NA entries. We need to keep them. We will drop NA values where all entries are Null."
   ]
  },
  {
   "cell_type": "code",
   "execution_count": 177,
   "id": "a45d62b6",
   "metadata": {},
   "outputs": [],
   "source": [
    "data = data.dropna(how=\"all\")"
   ]
  },
  {
   "cell_type": "code",
   "execution_count": 178,
   "id": "eb1f24ae",
   "metadata": {},
   "outputs": [
    {
     "data": {
      "text/html": [
       "<div>\n",
       "<style scoped>\n",
       "    .dataframe tbody tr th:only-of-type {\n",
       "        vertical-align: middle;\n",
       "    }\n",
       "\n",
       "    .dataframe tbody tr th {\n",
       "        vertical-align: top;\n",
       "    }\n",
       "\n",
       "    .dataframe thead th {\n",
       "        text-align: right;\n",
       "    }\n",
       "</style>\n",
       "<table border=\"1\" class=\"dataframe\">\n",
       "  <thead>\n",
       "    <tr style=\"text-align: right;\">\n",
       "      <th></th>\n",
       "      <th>item_id</th>\n",
       "      <th>status</th>\n",
       "      <th>created_at</th>\n",
       "      <th>sku</th>\n",
       "      <th>price</th>\n",
       "      <th>qty_ordered</th>\n",
       "      <th>grand_total</th>\n",
       "      <th>increment_id</th>\n",
       "      <th>category_name_1</th>\n",
       "      <th>sales_commission_code</th>\n",
       "      <th>...</th>\n",
       "      <th>payment_method</th>\n",
       "      <th>Working Date</th>\n",
       "      <th>BI Status</th>\n",
       "      <th>MV</th>\n",
       "      <th>Year</th>\n",
       "      <th>Month</th>\n",
       "      <th>Customer Since</th>\n",
       "      <th>M-Y</th>\n",
       "      <th>FY</th>\n",
       "      <th>Customer ID</th>\n",
       "    </tr>\n",
       "  </thead>\n",
       "  <tbody>\n",
       "    <tr>\n",
       "      <th>584519</th>\n",
       "      <td>905204.0</td>\n",
       "      <td>cod</td>\n",
       "      <td>2018-08-28</td>\n",
       "      <td>WOFSCE5AE00357AECDE</td>\n",
       "      <td>699.0</td>\n",
       "      <td>1.0</td>\n",
       "      <td>849.0</td>\n",
       "      <td>100562385</td>\n",
       "      <td>Women's Fashion</td>\n",
       "      <td>NaN</td>\n",
       "      <td>...</td>\n",
       "      <td>cod</td>\n",
       "      <td>2018-08-28</td>\n",
       "      <td>Valid</td>\n",
       "      <td>699</td>\n",
       "      <td>2018.0</td>\n",
       "      <td>8.0</td>\n",
       "      <td>2018-8</td>\n",
       "      <td>8-2018</td>\n",
       "      <td>FY19</td>\n",
       "      <td>115320.0</td>\n",
       "    </tr>\n",
       "    <tr>\n",
       "      <th>584520</th>\n",
       "      <td>905205.0</td>\n",
       "      <td>processing</td>\n",
       "      <td>2018-08-28</td>\n",
       "      <td>MATHUA5AF70A7D1E50A</td>\n",
       "      <td>35599.0</td>\n",
       "      <td>1.0</td>\n",
       "      <td>35899.0</td>\n",
       "      <td>100562386</td>\n",
       "      <td>Mobiles &amp; Tablets</td>\n",
       "      <td>NaN</td>\n",
       "      <td>...</td>\n",
       "      <td>bankalfalah</td>\n",
       "      <td>2018-08-28</td>\n",
       "      <td>Gross</td>\n",
       "      <td>35,599</td>\n",
       "      <td>2018.0</td>\n",
       "      <td>8.0</td>\n",
       "      <td>2018-8</td>\n",
       "      <td>8-2018</td>\n",
       "      <td>FY19</td>\n",
       "      <td>115326.0</td>\n",
       "    </tr>\n",
       "    <tr>\n",
       "      <th>584521</th>\n",
       "      <td>905206.0</td>\n",
       "      <td>processing</td>\n",
       "      <td>2018-08-28</td>\n",
       "      <td>MATSAM5B6D7208C6D30</td>\n",
       "      <td>129999.0</td>\n",
       "      <td>2.0</td>\n",
       "      <td>652178.0</td>\n",
       "      <td>100562387</td>\n",
       "      <td>Mobiles &amp; Tablets</td>\n",
       "      <td>NaN</td>\n",
       "      <td>...</td>\n",
       "      <td>bankalfalah</td>\n",
       "      <td>2018-08-28</td>\n",
       "      <td>Gross</td>\n",
       "      <td>259,998</td>\n",
       "      <td>2018.0</td>\n",
       "      <td>8.0</td>\n",
       "      <td>2018-7</td>\n",
       "      <td>8-2018</td>\n",
       "      <td>FY19</td>\n",
       "      <td>113474.0</td>\n",
       "    </tr>\n",
       "    <tr>\n",
       "      <th>584522</th>\n",
       "      <td>905207.0</td>\n",
       "      <td>processing</td>\n",
       "      <td>2018-08-28</td>\n",
       "      <td>MATSAM5B1509B4696EA</td>\n",
       "      <td>87300.0</td>\n",
       "      <td>2.0</td>\n",
       "      <td>652178.0</td>\n",
       "      <td>100562387</td>\n",
       "      <td>Mobiles &amp; Tablets</td>\n",
       "      <td>NaN</td>\n",
       "      <td>...</td>\n",
       "      <td>bankalfalah</td>\n",
       "      <td>2018-08-28</td>\n",
       "      <td>Gross</td>\n",
       "      <td>174,600</td>\n",
       "      <td>2018.0</td>\n",
       "      <td>8.0</td>\n",
       "      <td>2018-7</td>\n",
       "      <td>8-2018</td>\n",
       "      <td>FY19</td>\n",
       "      <td>113474.0</td>\n",
       "    </tr>\n",
       "    <tr>\n",
       "      <th>584523</th>\n",
       "      <td>905208.0</td>\n",
       "      <td>processing</td>\n",
       "      <td>2018-08-28</td>\n",
       "      <td>MATSAM5B10F91A9B6AB</td>\n",
       "      <td>108640.0</td>\n",
       "      <td>2.0</td>\n",
       "      <td>652178.0</td>\n",
       "      <td>100562387</td>\n",
       "      <td>Mobiles &amp; Tablets</td>\n",
       "      <td>NaN</td>\n",
       "      <td>...</td>\n",
       "      <td>bankalfalah</td>\n",
       "      <td>2018-08-28</td>\n",
       "      <td>Gross</td>\n",
       "      <td>217,280</td>\n",
       "      <td>2018.0</td>\n",
       "      <td>8.0</td>\n",
       "      <td>2018-7</td>\n",
       "      <td>8-2018</td>\n",
       "      <td>FY19</td>\n",
       "      <td>113474.0</td>\n",
       "    </tr>\n",
       "  </tbody>\n",
       "</table>\n",
       "<p>5 rows × 21 columns</p>\n",
       "</div>"
      ],
      "text/plain": [
       "         item_id      status created_at                  sku     price  \\\n",
       "584519  905204.0         cod 2018-08-28  WOFSCE5AE00357AECDE     699.0   \n",
       "584520  905205.0  processing 2018-08-28  MATHUA5AF70A7D1E50A   35599.0   \n",
       "584521  905206.0  processing 2018-08-28  MATSAM5B6D7208C6D30  129999.0   \n",
       "584522  905207.0  processing 2018-08-28  MATSAM5B1509B4696EA   87300.0   \n",
       "584523  905208.0  processing 2018-08-28  MATSAM5B10F91A9B6AB  108640.0   \n",
       "\n",
       "        qty_ordered  grand_total increment_id    category_name_1  \\\n",
       "584519          1.0        849.0    100562385    Women's Fashion   \n",
       "584520          1.0      35899.0    100562386  Mobiles & Tablets   \n",
       "584521          2.0     652178.0    100562387  Mobiles & Tablets   \n",
       "584522          2.0     652178.0    100562387  Mobiles & Tablets   \n",
       "584523          2.0     652178.0    100562387  Mobiles & Tablets   \n",
       "\n",
       "       sales_commission_code  ...  payment_method Working Date BI Status  \\\n",
       "584519                   NaN  ...             cod   2018-08-28     Valid   \n",
       "584520                   NaN  ...     bankalfalah   2018-08-28     Gross   \n",
       "584521                   NaN  ...     bankalfalah   2018-08-28     Gross   \n",
       "584522                   NaN  ...     bankalfalah   2018-08-28     Gross   \n",
       "584523                   NaN  ...     bankalfalah   2018-08-28     Gross   \n",
       "\n",
       "              MV     Year  Month  Customer Since     M-Y    FY Customer ID  \n",
       "584519       699   2018.0    8.0          2018-8  8-2018  FY19    115320.0  \n",
       "584520    35,599   2018.0    8.0          2018-8  8-2018  FY19    115326.0  \n",
       "584521   259,998   2018.0    8.0          2018-7  8-2018  FY19    113474.0  \n",
       "584522   174,600   2018.0    8.0          2018-7  8-2018  FY19    113474.0  \n",
       "584523   217,280   2018.0    8.0          2018-7  8-2018  FY19    113474.0  \n",
       "\n",
       "[5 rows x 21 columns]"
      ]
     },
     "execution_count": 178,
     "metadata": {},
     "output_type": "execute_result"
    }
   ],
   "source": [
    "data.tail()"
   ]
  },
  {
   "cell_type": "markdown",
   "id": "8277fc07",
   "metadata": {},
   "source": [
    "### Handling Missing Values"
   ]
  },
  {
   "cell_type": "code",
   "execution_count": 179,
   "id": "243561e4",
   "metadata": {},
   "outputs": [
    {
     "data": {
      "text/plain": [
       "item_id                       0\n",
       "status                       15\n",
       "created_at                    0\n",
       "sku                          20\n",
       "price                         0\n",
       "qty_ordered                   0\n",
       "grand_total                   0\n",
       "increment_id                  0\n",
       "category_name_1             164\n",
       "sales_commission_code    137175\n",
       "discount_amount               0\n",
       "payment_method                0\n",
       "Working Date                  0\n",
       "BI Status                     0\n",
       " MV                           0\n",
       "Year                          0\n",
       "Month                         0\n",
       "Customer Since               11\n",
       "M-Y                           0\n",
       "FY                            0\n",
       "Customer ID                  11\n",
       "dtype: int64"
      ]
     },
     "execution_count": 179,
     "metadata": {},
     "output_type": "execute_result"
    }
   ],
   "source": [
    "data.isnull().sum()"
   ]
  },
  {
   "cell_type": "code",
   "execution_count": 180,
   "id": "da5d016e",
   "metadata": {},
   "outputs": [
    {
     "name": "stdout",
     "output_type": "stream",
     "text": [
      "<class 'pandas.core.frame.DataFrame'>\n",
      "Int64Index: 584524 entries, 0 to 584523\n",
      "Data columns (total 21 columns):\n",
      " #   Column                 Non-Null Count   Dtype         \n",
      "---  ------                 --------------   -----         \n",
      " 0   item_id                584524 non-null  float64       \n",
      " 1   status                 584509 non-null  object        \n",
      " 2   created_at             584524 non-null  datetime64[ns]\n",
      " 3   sku                    584504 non-null  object        \n",
      " 4   price                  584524 non-null  float64       \n",
      " 5   qty_ordered            584524 non-null  float64       \n",
      " 6   grand_total            584524 non-null  float64       \n",
      " 7   increment_id           584524 non-null  object        \n",
      " 8   category_name_1        584360 non-null  object        \n",
      " 9   sales_commission_code  447349 non-null  object        \n",
      " 10  discount_amount        584524 non-null  float64       \n",
      " 11  payment_method         584524 non-null  object        \n",
      " 12  Working Date           584524 non-null  datetime64[ns]\n",
      " 13  BI Status              584524 non-null  object        \n",
      " 14   MV                    584524 non-null  object        \n",
      " 15  Year                   584524 non-null  float64       \n",
      " 16  Month                  584524 non-null  float64       \n",
      " 17  Customer Since         584513 non-null  object        \n",
      " 18  M-Y                    584524 non-null  object        \n",
      " 19  FY                     584524 non-null  object        \n",
      " 20  Customer ID            584513 non-null  float64       \n",
      "dtypes: datetime64[ns](2), float64(8), object(11)\n",
      "memory usage: 98.1+ MB\n"
     ]
    }
   ],
   "source": [
    "data.info()"
   ]
  },
  {
   "cell_type": "markdown",
   "id": "f0e0b071",
   "metadata": {},
   "source": [
    "##### Generally null values of Categorical variables are replaced with mode and numerical variables are replaced with mean. Here,let's consider 'Status' and 'Category Name' and replace the null values with its mode"
   ]
  },
  {
   "cell_type": "code",
   "execution_count": 181,
   "id": "7fc41b3c",
   "metadata": {},
   "outputs": [],
   "source": [
    "data['status'] = data['status'].fillna(data['status'].mode()[0])"
   ]
  },
  {
   "cell_type": "code",
   "execution_count": 182,
   "id": "dfac4901",
   "metadata": {},
   "outputs": [],
   "source": [
    "data['category_name_1'] = data['category_name_1'].fillna(data['category_name_1'].mode()[0])"
   ]
  },
  {
   "cell_type": "code",
   "execution_count": 183,
   "id": "9025bfcd",
   "metadata": {},
   "outputs": [
    {
     "data": {
      "text/plain": [
       "item_id                       0\n",
       "status                        0\n",
       "created_at                    0\n",
       "sku                          20\n",
       "price                         0\n",
       "qty_ordered                   0\n",
       "grand_total                   0\n",
       "increment_id                  0\n",
       "category_name_1               0\n",
       "sales_commission_code    137175\n",
       "discount_amount               0\n",
       "payment_method                0\n",
       "Working Date                  0\n",
       "BI Status                     0\n",
       " MV                           0\n",
       "Year                          0\n",
       "Month                         0\n",
       "Customer Since               11\n",
       "M-Y                           0\n",
       "FY                            0\n",
       "Customer ID                  11\n",
       "dtype: int64"
      ]
     },
     "execution_count": 183,
     "metadata": {},
     "output_type": "execute_result"
    }
   ],
   "source": [
    "data.isnull().sum()"
   ]
  },
  {
   "cell_type": "markdown",
   "id": "dd72eb43",
   "metadata": {},
   "source": [
    "##### In the above list, there is some extra space in \"MV\" column. Lets remove it. And 'created_at' can be renamed to 'order_date'"
   ]
  },
  {
   "cell_type": "code",
   "execution_count": 184,
   "id": "c33e49c7",
   "metadata": {},
   "outputs": [],
   "source": [
    "data.rename(columns ={\" MV \" :\"MV\", \"created_at\":\"Order_Date\"}, inplace = True)\n",
    "#data.columns = data.columns.str.replace(\" MV \" , \"MV\") --> can also be used to change column name"
   ]
  },
  {
   "cell_type": "code",
   "execution_count": 185,
   "id": "2c46ef67",
   "metadata": {},
   "outputs": [
    {
     "data": {
      "text/plain": [
       "Index(['item_id', 'status', 'Order_Date', 'sku', 'price', 'qty_ordered',\n",
       "       'grand_total', 'increment_id', 'category_name_1',\n",
       "       'sales_commission_code', 'discount_amount', 'payment_method',\n",
       "       'Working Date', 'BI Status', 'MV', 'Year', 'Month', 'Customer Since',\n",
       "       'M-Y', 'FY', 'Customer ID'],\n",
       "      dtype='object')"
      ]
     },
     "execution_count": 185,
     "metadata": {},
     "output_type": "execute_result"
    }
   ],
   "source": [
    "data.columns"
   ]
  },
  {
   "cell_type": "code",
   "execution_count": 97,
   "id": "6ad5c4bc",
   "metadata": {},
   "outputs": [
    {
     "data": {
      "text/plain": [
       "item_id                         float64\n",
       "status                           object\n",
       "Order_Date               datetime64[ns]\n",
       "sku                              object\n",
       "price                           float64\n",
       "qty_ordered                     float64\n",
       "grand_total                     float64\n",
       "increment_id                     object\n",
       "category_name_1                  object\n",
       "sales_commission_code            object\n",
       "discount_amount                 float64\n",
       "payment_method                   object\n",
       "Working Date             datetime64[ns]\n",
       "BI Status                        object\n",
       "MV                               object\n",
       "Year                            float64\n",
       "Month                           float64\n",
       "Customer Since                   object\n",
       "M-Y                              object\n",
       "FY                               object\n",
       "Customer ID                     float64\n",
       "dtype: object"
      ]
     },
     "execution_count": 97,
     "metadata": {},
     "output_type": "execute_result"
    }
   ],
   "source": [
    "data.dtypes"
   ]
  },
  {
   "cell_type": "markdown",
   "id": "030ffd29",
   "metadata": {},
   "source": [
    "### Type Casting"
   ]
  },
  {
   "cell_type": "markdown",
   "id": "65e12dd8",
   "metadata": {},
   "source": [
    "##### As observed above in the list, some columns are not in correct datatype. Let's perform datatype casting and convert the data type"
   ]
  },
  {
   "cell_type": "code",
   "execution_count": 186,
   "id": "e706da01",
   "metadata": {},
   "outputs": [],
   "source": [
    "data['Customer ID'] = data['Customer ID'].astype('str')\n",
    "data['item_id'] = data['item_id'].astype('str')\n",
    "data['qty_ordered'] = data['qty_ordered'].astype('int')\n",
    "data['Month'] = data['Month'].astype('int')\n",
    "data['Year'] = data['Year'].astype('int')\n"
   ]
  },
  {
   "cell_type": "code",
   "execution_count": 187,
   "id": "f1d6e1b1",
   "metadata": {},
   "outputs": [
    {
     "data": {
      "text/plain": [
       "item_id                          object\n",
       "status                           object\n",
       "Order_Date               datetime64[ns]\n",
       "sku                              object\n",
       "price                           float64\n",
       "qty_ordered                       int32\n",
       "grand_total                     float64\n",
       "increment_id                     object\n",
       "category_name_1                  object\n",
       "sales_commission_code            object\n",
       "discount_amount                 float64\n",
       "payment_method                   object\n",
       "Working Date             datetime64[ns]\n",
       "BI Status                        object\n",
       "MV                               object\n",
       "Year                              int32\n",
       "Month                             int32\n",
       "Customer Since                   object\n",
       "M-Y                              object\n",
       "FY                               object\n",
       "Customer ID                      object\n",
       "dtype: object"
      ]
     },
     "execution_count": 187,
     "metadata": {},
     "output_type": "execute_result"
    }
   ],
   "source": [
    "data.dtypes"
   ]
  },
  {
   "cell_type": "markdown",
   "id": "6214d7bf",
   "metadata": {},
   "source": [
    "### Data Exploration"
   ]
  },
  {
   "cell_type": "markdown",
   "id": "5d550fc7",
   "metadata": {},
   "source": [
    "###  Top Selling Category"
   ]
  },
  {
   "cell_type": "code",
   "execution_count": 188,
   "id": "aab72fb3",
   "metadata": {},
   "outputs": [
    {
     "data": {
      "text/plain": [
       "Mobiles & Tablets     115874\n",
       "Men's Fashion          92221\n",
       "Women's Fashion        59721\n",
       "Appliances             52413\n",
       "Superstore             43613\n",
       "Beauty & Grooming      41496\n",
       "Soghaat                34011\n",
       "Others                 29218\n",
       "Home & Living          26504\n",
       "Entertainment          26326\n",
       "Health & Sports        17502\n",
       "Kids & Baby            16494\n",
       "Computing              15933\n",
       "\\N                      7850\n",
       "School & Education      3478\n",
       "Books                   1870\n",
       "Name: category_name_1, dtype: int64"
      ]
     },
     "execution_count": 188,
     "metadata": {},
     "output_type": "execute_result"
    }
   ],
   "source": [
    "data.category_name_1.value_counts()"
   ]
  },
  {
   "cell_type": "markdown",
   "id": "3a4da1e0",
   "metadata": {},
   "source": [
    "##### Mobiles& Tablets tops the category list "
   ]
  },
  {
   "cell_type": "code",
   "execution_count": 189,
   "id": "9ef201a4",
   "metadata": {},
   "outputs": [
    {
     "data": {
      "image/png": "[encoded data removed]",
      "text/plain": [
       "<Figure size 864x360 with 1 Axes>"
      ]
     },
     "metadata": {
      "needs_background": "light"
     },
     "output_type": "display_data"
    }
   ],
   "source": [
    "top_10 = data['category_name_1'].value_counts().sort_values(ascending=False).head(10)\n",
    "plt.figure(figsize = (12,5))\n",
    "plt.title(\"Best Selling Categories\")\n",
    "plt.ylabel(\"Total Order\")\n",
    "plt.xticks(rotation = 45)\n",
    "\n",
    "sns.barplot(top_10.index, y=top_10,palette = 'Set1')\n",
    "plt.show()"
   ]
  },
  {
   "cell_type": "markdown",
   "id": "635f960a",
   "metadata": {},
   "source": [
    "### Payment Method vs Order Status"
   ]
  },
  {
   "cell_type": "markdown",
   "id": "2373c36a",
   "metadata": {},
   "source": [
    "##### Now plot correlation between completed order and Payment mode"
   ]
  },
  {
   "cell_type": "code",
   "execution_count": 190,
   "id": "c64022f1",
   "metadata": {},
   "outputs": [
    {
     "data": {
      "text/html": [
       "<div>\n",
       "<style scoped>\n",
       "    .dataframe tbody tr th:only-of-type {\n",
       "        vertical-align: middle;\n",
       "    }\n",
       "\n",
       "    .dataframe tbody tr th {\n",
       "        vertical-align: top;\n",
       "    }\n",
       "\n",
       "    .dataframe thead th {\n",
       "        text-align: right;\n",
       "    }\n",
       "</style>\n",
       "<table border=\"1\" class=\"dataframe\">\n",
       "  <thead>\n",
       "    <tr style=\"text-align: right;\">\n",
       "      <th></th>\n",
       "      <th>Mode Of Payment</th>\n",
       "    </tr>\n",
       "  </thead>\n",
       "  <tbody>\n",
       "    <tr>\n",
       "      <th>cod</th>\n",
       "      <td>148053</td>\n",
       "    </tr>\n",
       "    <tr>\n",
       "      <th>Payaxis</th>\n",
       "      <td>22809</td>\n",
       "    </tr>\n",
       "    <tr>\n",
       "      <th>Easypay</th>\n",
       "      <td>19214</td>\n",
       "    </tr>\n",
       "    <tr>\n",
       "      <th>easypay_voucher</th>\n",
       "      <td>16066</td>\n",
       "    </tr>\n",
       "    <tr>\n",
       "      <th>jazzwallet</th>\n",
       "      <td>13505</td>\n",
       "    </tr>\n",
       "    <tr>\n",
       "      <th>jazzvoucher</th>\n",
       "      <td>4619</td>\n",
       "    </tr>\n",
       "    <tr>\n",
       "      <th>customercredit</th>\n",
       "      <td>4151</td>\n",
       "    </tr>\n",
       "    <tr>\n",
       "      <th>Easypay_MA</th>\n",
       "      <td>3116</td>\n",
       "    </tr>\n",
       "    <tr>\n",
       "      <th>cashatdoorstep</th>\n",
       "      <td>674</td>\n",
       "    </tr>\n",
       "    <tr>\n",
       "      <th>bankalfalah</th>\n",
       "      <td>587</td>\n",
       "    </tr>\n",
       "    <tr>\n",
       "      <th>mcblite</th>\n",
       "      <td>393</td>\n",
       "    </tr>\n",
       "    <tr>\n",
       "      <th>ublcreditcard</th>\n",
       "      <td>182</td>\n",
       "    </tr>\n",
       "    <tr>\n",
       "      <th>internetbanking</th>\n",
       "      <td>156</td>\n",
       "    </tr>\n",
       "    <tr>\n",
       "      <th>productcredit</th>\n",
       "      <td>83</td>\n",
       "    </tr>\n",
       "    <tr>\n",
       "      <th>marketingexpense</th>\n",
       "      <td>42</td>\n",
       "    </tr>\n",
       "    <tr>\n",
       "      <th>apg</th>\n",
       "      <td>27</td>\n",
       "    </tr>\n",
       "    <tr>\n",
       "      <th>mygateway</th>\n",
       "      <td>14</td>\n",
       "    </tr>\n",
       "    <tr>\n",
       "      <th>financesettlement</th>\n",
       "      <td>9</td>\n",
       "    </tr>\n",
       "  </tbody>\n",
       "</table>\n",
       "</div>"
      ],
      "text/plain": [
       "                   Mode Of Payment\n",
       "cod                         148053\n",
       "Payaxis                      22809\n",
       "Easypay                      19214\n",
       "easypay_voucher              16066\n",
       "jazzwallet                   13505\n",
       "jazzvoucher                   4619\n",
       "customercredit                4151\n",
       "Easypay_MA                    3116\n",
       "cashatdoorstep                 674\n",
       "bankalfalah                    587\n",
       "mcblite                        393\n",
       "ublcreditcard                  182\n",
       "internetbanking                156\n",
       "productcredit                   83\n",
       "marketingexpense                42\n",
       "apg                             27\n",
       "mygateway                       14\n",
       "financesettlement                9"
      ]
     },
     "execution_count": 190,
     "metadata": {},
     "output_type": "execute_result"
    }
   ],
   "source": [
    "corr_comp = data.loc[data['status']=='complete']['payment_method'].value_counts().sort_values(ascending = False).to_frame('Mode Of Payment')\n",
    "corr_comp"
   ]
  },
  {
   "cell_type": "code",
   "execution_count": 191,
   "id": "811aee3f",
   "metadata": {},
   "outputs": [
    {
     "data": {
      "image/png": "[encoded data removed]",
      "text/plain": [
       "<Figure size 1440x360 with 1 Axes>"
      ]
     },
     "metadata": {
      "needs_background": "light"
     },
     "output_type": "display_data"
    }
   ],
   "source": [
    "\n",
    "plt.figure(figsize = (20,5))\n",
    "plt.title(\"Mode of Payment for Completed Orders\")\n",
    "sns.barplot(corr_comp.index, y=corr_comp['Mode Of Payment'],color = 'g')\n",
    "plt.ylabel(\"Total Orders\")\n",
    "plt.xlabel('Payment Mode')\n",
    "plt.xticks(rotation = 45)\n",
    "plt.show()"
   ]
  },
  {
   "cell_type": "markdown",
   "id": "2daa7cde",
   "metadata": {},
   "source": [
    "##### Cash On Delivery is highly prevalent among other modes of payment"
   ]
  },
  {
   "cell_type": "markdown",
   "id": "3f131659",
   "metadata": {},
   "source": [
    "##### Now let's plot correlation between canceled order and Payment mode"
   ]
  },
  {
   "cell_type": "code",
   "execution_count": 192,
   "id": "b7303da4",
   "metadata": {},
   "outputs": [],
   "source": [
    "corr_can = data.loc[data['status']=='canceled']['payment_method'].value_counts().sort_values(ascending = False).to_frame('Mode Of Payment')\n"
   ]
  },
  {
   "cell_type": "code",
   "execution_count": 193,
   "id": "cb8f87cd",
   "metadata": {},
   "outputs": [
    {
     "data": {
      "image/png": "[encoded data removed]",
      "text/plain": [
       "<Figure size 1440x360 with 1 Axes>"
      ]
     },
     "metadata": {
      "needs_background": "light"
     },
     "output_type": "display_data"
    }
   ],
   "source": [
    "\n",
    "plt.figure(figsize = (20,5))\n",
    "plt.title(\"Mode of Payment for Canceled Orders\")\n",
    "sns.barplot(corr_can.index, y=corr_can['Mode Of Payment'],color = 'r')\n",
    "plt.xticks(rotation = 45)\n",
    "plt.xlabel(\"Payment Mode\")\n",
    "plt.ylabel(\"Total Orders\")\n",
    "plt.show()"
   ]
  },
  {
   "cell_type": "code",
   "execution_count": 194,
   "id": "6339ca4a",
   "metadata": {},
   "outputs": [
    {
     "data": {
      "text/plain": [
       "Index(['item_id', 'status', 'Order_Date', 'sku', 'price', 'qty_ordered',\n",
       "       'grand_total', 'increment_id', 'category_name_1',\n",
       "       'sales_commission_code', 'discount_amount', 'payment_method',\n",
       "       'Working Date', 'BI Status', 'MV', 'Year', 'Month', 'Customer Since',\n",
       "       'M-Y', 'FY', 'Customer ID'],\n",
       "      dtype='object')"
      ]
     },
     "execution_count": 194,
     "metadata": {},
     "output_type": "execute_result"
    }
   ],
   "source": [
    "data.columns"
   ]
  },
  {
   "cell_type": "markdown",
   "id": "8b17dd93",
   "metadata": {},
   "source": [
    "### Year Wise Revenue"
   ]
  },
  {
   "cell_type": "code",
   "execution_count": 195,
   "id": "59cbeaa7",
   "metadata": {},
   "outputs": [
    {
     "data": {
      "text/plain": [
       "2017    290920\n",
       "2018    159695\n",
       "2016    133909\n",
       "Name: Year, dtype: int64"
      ]
     },
     "execution_count": 195,
     "metadata": {},
     "output_type": "execute_result"
    }
   ],
   "source": [
    "data['Year'].value_counts()"
   ]
  },
  {
   "cell_type": "code",
   "execution_count": 198,
   "id": "db73a5c4",
   "metadata": {},
   "outputs": [],
   "source": [
    "year_wise_sales = data.groupby('Year')['grand_total'].sum()"
   ]
  },
  {
   "cell_type": "code",
   "execution_count": 204,
   "id": "f51b3b4f",
   "metadata": {},
   "outputs": [
    {
     "data": {
      "image/png": "[encoded data removed]",
      "text/plain": [
       "<Figure size 1080x504 with 1 Axes>"
      ]
     },
     "metadata": {},
     "output_type": "display_data"
    }
   ],
   "source": [
    "plt.figure(figsize = (15,7))\n",
    "plt.title(\"Year wise Revenue\")\n",
    "explode=(0.1,0,0)\n",
    "plt.pie(year_wise_sales, labels = year_wise_sales.index, explode=explode, autopct='%1.1f%%', shadow=True, startangle=0)\n",
    "plt.show()\n",
    "  "
   ]
  },
  {
   "cell_type": "markdown",
   "id": "7102155c",
   "metadata": {},
   "source": [
    "#### Revenue contribution at 2016 is the lowest of lot"
   ]
  },
  {
   "cell_type": "markdown",
   "id": "c77d2ec6",
   "metadata": {},
   "source": [
    "###  Seasonality over the years across months"
   ]
  },
  {
   "cell_type": "code",
   "execution_count": 213,
   "id": "b5521a78",
   "metadata": {},
   "outputs": [
    {
     "data": {
      "text/plain": [
       "Index(['item_id', 'status', 'Order_Date', 'sku', 'price', 'qty_ordered',\n",
       "       'grand_total', 'increment_id', 'category_name_1',\n",
       "       'sales_commission_code', 'discount_amount', 'payment_method',\n",
       "       'Working Date', 'BI Status', 'MV', 'Year', 'Month', 'Customer Since',\n",
       "       'M-Y', 'FY', 'Customer ID'],\n",
       "      dtype='object')"
      ]
     },
     "execution_count": 213,
     "metadata": {},
     "output_type": "execute_result"
    }
   ],
   "source": [
    "data.columns"
   ]
  },
  {
   "cell_type": "code",
   "execution_count": 251,
   "id": "2693018c",
   "metadata": {},
   "outputs": [],
   "source": [
    "df = data[['grand_total','Month','Year','M-Y']]\n",
    "\n",
    "\n",
    "y_16 = data[data['Year']==2016]\n",
    "y_17 = data[data['Year']==2017]\n",
    "y_18 = data[data['Year']==2018]\n"
   ]
  },
  {
   "cell_type": "markdown",
   "id": "7c540f53",
   "metadata": {},
   "source": [
    "##### Let's convert datatype of Month into string and convert the values to corresponding month names"
   ]
  },
  {
   "cell_type": "code",
   "execution_count": null,
   "id": "6cc5b421",
   "metadata": {},
   "outputs": [],
   "source": [
    "data['Month'] = data['Month'].astype('str')\n"
   ]
  },
  {
   "cell_type": "code",
   "execution_count": null,
   "id": "beed499e",
   "metadata": {},
   "outputs": [],
   "source": [
    "#df['column name'] = df['column name'].replace(['1st old value','2nd old value',...],['1st new value','2nd new value',...])\n",
    "data['Month'] = data['Month'].replace(['1','2','3','4','5','6','7','8','9','10','11','12'], \\\n",
    "                                      ['Jan','Feb','Mar','Apr','May','Jun','Jul','Aug','Sept','Oct','Nov','Dec'])"
   ]
  },
  {
   "cell_type": "code",
   "execution_count": 252,
   "id": "f6829993",
   "metadata": {},
   "outputs": [
    {
     "data": {
      "text/plain": [
       "array(['Jul', 'Aug', 'Sept', 'Oct', 'Nov', 'Dec', 'Jan', 'Feb', 'Mar',\n",
       "       'Apr', 'May', 'Jun'], dtype=object)"
      ]
     },
     "execution_count": 252,
     "metadata": {},
     "output_type": "execute_result"
    }
   ],
   "source": [
    "data['Month'].unique()"
   ]
  },
  {
   "cell_type": "code",
   "execution_count": 254,
   "id": "1b1acf49",
   "metadata": {},
   "outputs": [
    {
     "data": {
      "image/png": "[encoded data removed]",
      "text/plain": [
       "<Figure size 1080x720 with 1 Axes>"
      ]
     },
     "metadata": {
      "needs_background": "light"
     },
     "output_type": "display_data"
    },
    {
     "data": {
      "image/png": "[encoded data removed]",
      "text/plain": [
       "<Figure size 1080x720 with 1 Axes>"
      ]
     },
     "metadata": {
      "needs_background": "light"
     },
     "output_type": "display_data"
    },
    {
     "data": {
      "image/png": "[encoded data removed]",
      "text/plain": [
       "<Figure size 1080x720 with 1 Axes>"
      ]
     },
     "metadata": {
      "needs_background": "light"
     },
     "output_type": "display_data"
    }
   ],
   "source": [
    "\n",
    "plt.figure(figsize = (15,10))\n",
    "plt.subplot(3,1,1)\n",
    "plt.title(\"Trend over the months\")\n",
    "sns.lineplot(data=y_16, x= 'Month', y ='grand_total')\n",
    "plt.ylabel(\"Revenue\")\n",
    "plt.show()\n",
    "\n",
    "plt.figure(figsize = (15,10))\n",
    "plt.subplot(3,1,2)\n",
    "plt.title(\"Trend over the months\")\n",
    "sns.lineplot(data=y_17, x= 'Month', y ='grand_total')\n",
    "plt.ylabel(\"Revenue\")\n",
    "plt.show()\n",
    "\n",
    "plt.figure(figsize = (15,10))\n",
    "plt.subplot(3,1,3)\n",
    "plt.title(\"Trend over the months\")\n",
    "sns.lineplot(data=y_18, x= 'Month', y ='grand_total')\n",
    "plt.ylabel(\"Revenue\")\n",
    "plt.show()"
   ]
  },
  {
   "cell_type": "code",
   "execution_count": null,
   "id": "43799629",
   "metadata": {},
   "outputs": [],
   "source": []
  }
 ],
 "metadata": {
  "kernelspec": {
   "display_name": "Python 3",
   "language": "python",
   "name": "python3"
  },
  "language_info": {
   "codemirror_mode": {
    "name": "ipython",
    "version": 3
   },
   "file_extension": ".py",
   "mimetype": "text/x-python",
   "name": "python",
   "nbconvert_exporter": "python",
   "pygments_lexer": "ipython3",
   "version": "3.8.8"
  }
 },
 "nbformat": 4,
 "nbformat_minor": 5
}
